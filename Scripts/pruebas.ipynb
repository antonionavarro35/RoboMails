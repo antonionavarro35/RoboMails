{
 "metadata": {
  "language_info": {
   "codemirror_mode": {
    "name": "ipython",
    "version": 3
   },
   "file_extension": ".py",
   "mimetype": "text/x-python",
   "name": "python",
   "nbconvert_exporter": "python",
   "pygments_lexer": "ipython3",
   "version": "3.7.6-final"
  },
  "orig_nbformat": 2,
  "kernelspec": {
   "name": "python3",
   "display_name": "Python 3",
   "language": "python"
  }
 },
 "nbformat": 4,
 "nbformat_minor": 2,
 "cells": [
  {
   "cell_type": "code",
   "execution_count": 12,
   "metadata": {},
   "outputs": [],
   "source": [
    "import pandas as pd\n",
    "from funcion import rename, read_Excel"
   ]
  },
  {
   "cell_type": "code",
   "execution_count": 13,
   "metadata": {},
   "outputs": [],
   "source": [
    "path='C:\\\\Users\\\\A.NAVARRO\\\\Downloads\\\\'\n",
    "imi=\"IMI_General_21.xlsx\"\n",
    "newname='Reports_Dump.xlsx'\n",
    "pattern='Reports_D*'"
   ]
  },
  {
   "cell_type": "code",
   "execution_count": 14,
   "metadata": {},
   "outputs": [],
   "source": [
    "rename(path, pattern, newname)"
   ]
  },
  {
   "cell_type": "code",
   "execution_count": 15,
   "metadata": {},
   "outputs": [],
   "source": [
    "df=pd.read_excel(path+imi, sheetName='Main')[['Email', 'ManagerEmail']]\n",
    "rep=pd.read_excel(path+newname)"
   ]
  },
  {
   "cell_type": "code",
   "execution_count": 16,
   "metadata": {},
   "outputs": [],
   "source": [
    "rep=rep[(rep.Estado=='Pendiente') | (rep.Estado=='Rechazado')]"
   ]
  },
  {
   "cell_type": "code",
   "execution_count": 17,
   "metadata": {},
   "outputs": [],
   "source": [
    "ptes=rep[rep['Fecha del informe']=='1/2021']"
   ]
  },
  {
   "cell_type": "code",
   "execution_count": 18,
   "metadata": {},
   "outputs": [],
   "source": [
    "mrg=ptes.merge(df, how='left', left_on='Correo del consultor', right_on='Email')"
   ]
  },
  {
   "cell_type": "code",
   "execution_count": 19,
   "metadata": {},
   "outputs": [
    {
     "output_type": "execute_result",
     "data": {
      "text/plain": [
       "Index(['Id', 'Fecha del informe', 'Proyecto', 'Consultor', 'Mánager', 'Estado',\n",
       "       'Correo del consultor', 'Función en el proyecto', 'Fecha de envío',\n",
       "       'Fecha de aprobación', 'Fecha de validación', 'Email', 'ManagerEmail'],\n",
       "      dtype='object')"
      ]
     },
     "metadata": {},
     "execution_count": 19
    }
   ],
   "source": [
    "mrg.columns"
   ]
  },
  {
   "cell_type": "code",
   "execution_count": 20,
   "metadata": {},
   "outputs": [],
   "source": [
    "mrg=mrg[['Correo del consultor', 'ManagerEmail', 'Fecha del informe', 'Estado']]\n",
    "data=mrg.rename(columns={'Correo del consultor':'consultor', 'ManagerEmail':'manager', 'Fecha del informe':'mes', 'Estado':'estado'})"
   ]
  },
  {
   "cell_type": "code",
   "execution_count": 22,
   "metadata": {},
   "outputs": [],
   "source": [
    "data.to_excel('data/mails.xlsx')"
   ]
  },
  {
   "cell_type": "code",
   "execution_count": null,
   "metadata": {},
   "outputs": [],
   "source": []
  }
 ]
}
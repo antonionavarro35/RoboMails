{
 "metadata": {
  "language_info": {
   "codemirror_mode": {
    "name": "ipython",
    "version": 3
   },
   "file_extension": ".py",
   "mimetype": "text/x-python",
   "name": "python",
   "nbconvert_exporter": "python",
   "pygments_lexer": "ipython3",
   "version": "3.7.6-final"
  },
  "orig_nbformat": 2,
  "kernelspec": {
   "name": "python3",
   "display_name": "Python 3",
   "language": "python"
  }
 },
 "nbformat": 4,
 "nbformat_minor": 2,
 "cells": [
  {
   "cell_type": "code",
   "execution_count": 147,
   "metadata": {},
   "outputs": [],
   "source": [
    "import pandas as pd\n",
    "from funcion import rename, read_Excel\n",
    "import numpy as np"
   ]
  },
  {
   "cell_type": "code",
   "execution_count": 148,
   "metadata": {},
   "outputs": [],
   "source": [
    "path='C:\\\\Users\\\\A.NAVARRO\\\\Downloads\\\\'\n",
    "imi=\"IMI_General_21.xlsx\"\n",
    "newname='Reports_Dump.xlsx'\n",
    "pattern='Reports_D*'\n",
    "wdir='C:/Users/A.NAVARRO/OneDrive - o2f-it/UiPath/RoboMails/Scripts'"
   ]
  },
  {
   "cell_type": "code",
   "execution_count": 203,
   "metadata": {},
   "outputs": [],
   "source": [
    "month=2\n",
    "year=2021"
   ]
  },
  {
   "cell_type": "code",
   "execution_count": 204,
   "metadata": {},
   "outputs": [],
   "source": [
    "mesMasUno=str(int(month)+1)\n",
    "\n",
    "month=str(month)\n",
    "year=str(year) \n",
    "\n",
    "monthYear=month+'/'+year"
   ]
  },
  {
   "cell_type": "code",
   "execution_count": 205,
   "metadata": {},
   "outputs": [],
   "source": [
    "rename(path, pattern, newname)"
   ]
  },
  {
   "cell_type": "code",
   "execution_count": 206,
   "metadata": {},
   "outputs": [],
   "source": [
    "df=pd.read_excel(path+imi, sheetName='Main')[['Email', 'ManagerEmail', 'Bonificados']]\n",
    "df=df[df['Bonificados'].isin(['Si', 'si'])]\n",
    "rep=pd.read_excel(path+newname)\n"
   ]
  },
  {
   "cell_type": "code",
   "execution_count": 207,
   "metadata": {},
   "outputs": [],
   "source": [
    "rep[['month','year']] = rep['Fecha del informe'].apply(lambda x: pd.Series(str(x).split(\"/\")))"
   ]
  },
  {
   "cell_type": "code",
   "execution_count": 208,
   "metadata": {},
   "outputs": [],
   "source": [
    "rep=rep[((rep.Estado=='Pendiente') | (rep.Estado=='Rechazado'))&(rep.year==year)]"
   ]
  },
  {
   "cell_type": "code",
   "execution_count": 209,
   "metadata": {},
   "outputs": [],
   "source": [
    "countPtes=rep[rep.month!=mesMasUno].groupby('Correo del consultor').agg({'Id':'count'})\n"
   ]
  },
  {
   "cell_type": "code",
   "execution_count": 211,
   "metadata": {},
   "outputs": [],
   "source": [
    "ptes=rep[rep['Fecha del informe']==monthYear]"
   ]
  },
  {
   "cell_type": "code",
   "execution_count": 212,
   "metadata": {},
   "outputs": [
    {
     "output_type": "execute_result",
     "data": {
      "text/plain": [
       "        Id Fecha del informe                 Proyecto  \\\n",
       "177  #1631            2/2021                      CHS   \n",
       "183  #1256            2/2021             ING Finanzas   \n",
       "185  #1258            2/2021             ING Finanzas   \n",
       "187  #1261            2/2021             ING Finanzas   \n",
       "188  #1262            2/2021             ING Finanzas   \n",
       "197  #1272            2/2021             ING Finanzas   \n",
       "202  #1278            2/2021             ING Finanzas   \n",
       "239  #1316            2/2021                   IT Now   \n",
       "245  #1323            2/2021                   IT Now   \n",
       "247  #1325            2/2021    MEDIAPRODUCCIÓN S.L.U   \n",
       "260  #1338            2/2021             ING Finanzas   \n",
       "265  #1344            2/2021                      BNP   \n",
       "267  #1347            2/2021                      CHS   \n",
       "269  #1350            2/2021  Grup caja de ingenieros   \n",
       "275  #1356            2/2021                    Byrom   \n",
       "288  #1369            2/2021                    Tempe   \n",
       "316  #1401            2/2021               Telefonica   \n",
       "320  #1405            2/2021                  Bershka   \n",
       "323  #1408            2/2021                      AMA   \n",
       "324  #1409            2/2021               ADP IBERIA   \n",
       "325  #1410            2/2021                    Tempe   \n",
       "345  #1431            2/2021                      RSI   \n",
       "346  #1432            2/2021                    Tempe   \n",
       "\n",
       "                              Consultor                         Mánager  \\\n",
       "177                     Guillem Pitarch       Jose Perez Nieto-Sandoval   \n",
       "183            Carlos Castedo Hernández            Carlos Gamero Zorita   \n",
       "185                     Ricardo Sánchez            Carlos Gamero Zorita   \n",
       "187              Israel  Garcia Sánchez            Carlos Gamero Zorita   \n",
       "188               Manuel López Ambrosio  Paul Alejandro Gutierrez Rámos   \n",
       "197     Francisco Javier Pulido Hidalgo          Israel  Garcia Sánchez   \n",
       "202  Fernando Agustín Martínez Palacios          Israel  Garcia Sánchez   \n",
       "239                   Borja Lledo Lopez                    Gonzalo Cruz   \n",
       "245              Sebastian Tebar Martin         Miguel Angel Etcheverry   \n",
       "247                          Kilian Bao                  Estelle Gendre   \n",
       "260                        Yajaira Báez                Tomislav Delalic   \n",
       "265                 Jesús García Blasco                Tomislav Delalic   \n",
       "267                       Javier Millet             Jesús García Blasco   \n",
       "269                 Domènec Valls Dedeu                     Alejo Daudi   \n",
       "275               Ramon Carbonell Isant             Abdelfettah BOUJLAL   \n",
       "288                         Damian Moya                 Santiago Criado   \n",
       "316                       Aaron Fleming               Jaume Poch Blanch   \n",
       "320                Eugeni Megias Torres            Oriol Obach Doménech   \n",
       "323             Damian Marcen Lupiañez                   Mercedes Diaz    \n",
       "324           Jose Javier Lirio Villena                     Alejo Daudi   \n",
       "325             Salvador Torres Velasco                 Santiago Criado   \n",
       "345        Maria Esther Carrillo Grasso            Carlos Gamero Zorita   \n",
       "346                    Isaura Ruiz Sojo                  Mercedes Diaz    \n",
       "\n",
       "        Estado                         Correo del consultor  \\\n",
       "177  Pendiente                   guillem.pitarch@amaris.com   \n",
       "183  Pendiente           carlos.castedohernandez@amaris.com   \n",
       "185  Pendiente                   ricardo.sanchez@amaris.com   \n",
       "187  Pendiente              israel.garciasanchez@amaris.com   \n",
       "188  Pendiente             manuel.lopezambrosino@amaris.com   \n",
       "197  Pendiente            francisco.javierpulido@amaris.com   \n",
       "202  Pendiente  fernandoagustin.martinezpalacios@amaris.com   \n",
       "239  Pendiente                  borja.lledolopez@amaris.com   \n",
       "245  Pendiente             sebastian.tebarmartin@amaris.com   \n",
       "247  Pendiente                        kilian.bao@amaris.com   \n",
       "260  Pendiente                      yajaira.baez@amaris.com   \n",
       "265  Pendiente                      jesus.garcia@amaris.com   \n",
       "267  Pendiente                     javier.millet@amaris.com   \n",
       "269  Pendiente                     domenec.valls@amaris.com   \n",
       "275  Rechazado              ramon.carbonellisant@amaris.com   \n",
       "288  Pendiente                       damian.moya@amaris.com   \n",
       "316  Rechazado                     aaron.fleming@amaris.com   \n",
       "320  Pendiente               eugeni.megiastorres@amaris.com   \n",
       "323  Pendiente                     damian.marcen@amaris.com   \n",
       "324  Pendiente                  josejavier.lirio@amaris.com   \n",
       "325  Pendiente            salvador.torresvelasco@amaris.com   \n",
       "345  Pendiente        mariaesther.carrillograsso@amaris.com   \n",
       "346  Pendiente                       isaura.ruiz@amaris.com   \n",
       "\n",
       "       Función en el proyecto      Fecha de envío Fecha de aprobación  \\\n",
       "177             Desarrollador                 NaT                 NaT   \n",
       "183             Desarrollador                 NaT                 NaT   \n",
       "185                 Front End                 NaT                 NaT   \n",
       "187             Desarrollador                 NaT                 NaT   \n",
       "188             Desarrollador                 NaT                 NaT   \n",
       "197                 Front End                 NaT                 NaT   \n",
       "202             Desarrollador                 NaT                 NaT   \n",
       "239                  Back End                 NaT                 NaT   \n",
       "245                        QA                 NaT                 NaT   \n",
       "247             Desarrollador                 NaT                 NaT   \n",
       "260   Agile testing developer                 NaT                 NaT   \n",
       "265  Test automation engineer                 NaT                 NaT   \n",
       "267  Test automation engineer                 NaT                 NaT   \n",
       "269            Data Scientist                 NaT                 NaT   \n",
       "275                  Back End 2021-03-01 10:32:12                 NaT   \n",
       "288             Desarrollador                 NaT                 NaT   \n",
       "316                        QA 2021-02-20 18:21:22                 NaT   \n",
       "320      BI / Big Data / BBDD                 NaT                 NaT   \n",
       "323             Desarrollador                 NaT                 NaT   \n",
       "324             Desarrollador                 NaT                 NaT   \n",
       "325             Desarrollador                 NaT                 NaT   \n",
       "345              Software Dev                 NaT                 NaT   \n",
       "346              Software Dev                 NaT                 NaT   \n",
       "\n",
       "    Fecha de validación month  year  \n",
       "177                 NaT     2  2021  \n",
       "183                 NaT     2  2021  \n",
       "185                 NaT     2  2021  \n",
       "187                 NaT     2  2021  \n",
       "188                 NaT     2  2021  \n",
       "197                 NaT     2  2021  \n",
       "202                 NaT     2  2021  \n",
       "239                 NaT     2  2021  \n",
       "245                 NaT     2  2021  \n",
       "247                 NaT     2  2021  \n",
       "260                 NaT     2  2021  \n",
       "265                 NaT     2  2021  \n",
       "267                 NaT     2  2021  \n",
       "269                 NaT     2  2021  \n",
       "275                 NaT     2  2021  \n",
       "288                 NaT     2  2021  \n",
       "316                 NaT     2  2021  \n",
       "320                 NaT     2  2021  \n",
       "323                 NaT     2  2021  \n",
       "324                 NaT     2  2021  \n",
       "325                 NaT     2  2021  \n",
       "345                 NaT     2  2021  \n",
       "346                 NaT     2  2021  "
      ],
      "text/html": "<div>\n<style scoped>\n    .dataframe tbody tr th:only-of-type {\n        vertical-align: middle;\n    }\n\n    .dataframe tbody tr th {\n        vertical-align: top;\n    }\n\n    .dataframe thead th {\n        text-align: right;\n    }\n</style>\n<table border=\"1\" class=\"dataframe\">\n  <thead>\n    <tr style=\"text-align: right;\">\n      <th></th>\n      <th>Id</th>\n      <th>Fecha del informe</th>\n      <th>Proyecto</th>\n      <th>Consultor</th>\n      <th>Mánager</th>\n      <th>Estado</th>\n      <th>Correo del consultor</th>\n      <th>Función en el proyecto</th>\n      <th>Fecha de envío</th>\n      <th>Fecha de aprobación</th>\n      <th>Fecha de validación</th>\n      <th>month</th>\n      <th>year</th>\n    </tr>\n  </thead>\n  <tbody>\n    <tr>\n      <th>177</th>\n      <td>#1631</td>\n      <td>2/2021</td>\n      <td>CHS</td>\n      <td>Guillem Pitarch</td>\n      <td>Jose Perez Nieto-Sandoval</td>\n      <td>Pendiente</td>\n      <td>guillem.pitarch@amaris.com</td>\n      <td>Desarrollador</td>\n      <td>NaT</td>\n      <td>NaT</td>\n      <td>NaT</td>\n      <td>2</td>\n      <td>2021</td>\n    </tr>\n    <tr>\n      <th>183</th>\n      <td>#1256</td>\n      <td>2/2021</td>\n      <td>ING Finanzas</td>\n      <td>Carlos Castedo Hernández</td>\n      <td>Carlos Gamero Zorita</td>\n      <td>Pendiente</td>\n      <td>carlos.castedohernandez@amaris.com</td>\n      <td>Desarrollador</td>\n      <td>NaT</td>\n      <td>NaT</td>\n      <td>NaT</td>\n      <td>2</td>\n      <td>2021</td>\n    </tr>\n    <tr>\n      <th>185</th>\n      <td>#1258</td>\n      <td>2/2021</td>\n      <td>ING Finanzas</td>\n      <td>Ricardo Sánchez</td>\n      <td>Carlos Gamero Zorita</td>\n      <td>Pendiente</td>\n      <td>ricardo.sanchez@amaris.com</td>\n      <td>Front End</td>\n      <td>NaT</td>\n      <td>NaT</td>\n      <td>NaT</td>\n      <td>2</td>\n      <td>2021</td>\n    </tr>\n    <tr>\n      <th>187</th>\n      <td>#1261</td>\n      <td>2/2021</td>\n      <td>ING Finanzas</td>\n      <td>Israel  Garcia Sánchez</td>\n      <td>Carlos Gamero Zorita</td>\n      <td>Pendiente</td>\n      <td>israel.garciasanchez@amaris.com</td>\n      <td>Desarrollador</td>\n      <td>NaT</td>\n      <td>NaT</td>\n      <td>NaT</td>\n      <td>2</td>\n      <td>2021</td>\n    </tr>\n    <tr>\n      <th>188</th>\n      <td>#1262</td>\n      <td>2/2021</td>\n      <td>ING Finanzas</td>\n      <td>Manuel López Ambrosio</td>\n      <td>Paul Alejandro Gutierrez Rámos</td>\n      <td>Pendiente</td>\n      <td>manuel.lopezambrosino@amaris.com</td>\n      <td>Desarrollador</td>\n      <td>NaT</td>\n      <td>NaT</td>\n      <td>NaT</td>\n      <td>2</td>\n      <td>2021</td>\n    </tr>\n    <tr>\n      <th>197</th>\n      <td>#1272</td>\n      <td>2/2021</td>\n      <td>ING Finanzas</td>\n      <td>Francisco Javier Pulido Hidalgo</td>\n      <td>Israel  Garcia Sánchez</td>\n      <td>Pendiente</td>\n      <td>francisco.javierpulido@amaris.com</td>\n      <td>Front End</td>\n      <td>NaT</td>\n      <td>NaT</td>\n      <td>NaT</td>\n      <td>2</td>\n      <td>2021</td>\n    </tr>\n    <tr>\n      <th>202</th>\n      <td>#1278</td>\n      <td>2/2021</td>\n      <td>ING Finanzas</td>\n      <td>Fernando Agustín Martínez Palacios</td>\n      <td>Israel  Garcia Sánchez</td>\n      <td>Pendiente</td>\n      <td>fernandoagustin.martinezpalacios@amaris.com</td>\n      <td>Desarrollador</td>\n      <td>NaT</td>\n      <td>NaT</td>\n      <td>NaT</td>\n      <td>2</td>\n      <td>2021</td>\n    </tr>\n    <tr>\n      <th>239</th>\n      <td>#1316</td>\n      <td>2/2021</td>\n      <td>IT Now</td>\n      <td>Borja Lledo Lopez</td>\n      <td>Gonzalo Cruz</td>\n      <td>Pendiente</td>\n      <td>borja.lledolopez@amaris.com</td>\n      <td>Back End</td>\n      <td>NaT</td>\n      <td>NaT</td>\n      <td>NaT</td>\n      <td>2</td>\n      <td>2021</td>\n    </tr>\n    <tr>\n      <th>245</th>\n      <td>#1323</td>\n      <td>2/2021</td>\n      <td>IT Now</td>\n      <td>Sebastian Tebar Martin</td>\n      <td>Miguel Angel Etcheverry</td>\n      <td>Pendiente</td>\n      <td>sebastian.tebarmartin@amaris.com</td>\n      <td>QA</td>\n      <td>NaT</td>\n      <td>NaT</td>\n      <td>NaT</td>\n      <td>2</td>\n      <td>2021</td>\n    </tr>\n    <tr>\n      <th>247</th>\n      <td>#1325</td>\n      <td>2/2021</td>\n      <td>MEDIAPRODUCCIÓN S.L.U</td>\n      <td>Kilian Bao</td>\n      <td>Estelle Gendre</td>\n      <td>Pendiente</td>\n      <td>kilian.bao@amaris.com</td>\n      <td>Desarrollador</td>\n      <td>NaT</td>\n      <td>NaT</td>\n      <td>NaT</td>\n      <td>2</td>\n      <td>2021</td>\n    </tr>\n    <tr>\n      <th>260</th>\n      <td>#1338</td>\n      <td>2/2021</td>\n      <td>ING Finanzas</td>\n      <td>Yajaira Báez</td>\n      <td>Tomislav Delalic</td>\n      <td>Pendiente</td>\n      <td>yajaira.baez@amaris.com</td>\n      <td>Agile testing developer</td>\n      <td>NaT</td>\n      <td>NaT</td>\n      <td>NaT</td>\n      <td>2</td>\n      <td>2021</td>\n    </tr>\n    <tr>\n      <th>265</th>\n      <td>#1344</td>\n      <td>2/2021</td>\n      <td>BNP</td>\n      <td>Jesús García Blasco</td>\n      <td>Tomislav Delalic</td>\n      <td>Pendiente</td>\n      <td>jesus.garcia@amaris.com</td>\n      <td>Test automation engineer</td>\n      <td>NaT</td>\n      <td>NaT</td>\n      <td>NaT</td>\n      <td>2</td>\n      <td>2021</td>\n    </tr>\n    <tr>\n      <th>267</th>\n      <td>#1347</td>\n      <td>2/2021</td>\n      <td>CHS</td>\n      <td>Javier Millet</td>\n      <td>Jesús García Blasco</td>\n      <td>Pendiente</td>\n      <td>javier.millet@amaris.com</td>\n      <td>Test automation engineer</td>\n      <td>NaT</td>\n      <td>NaT</td>\n      <td>NaT</td>\n      <td>2</td>\n      <td>2021</td>\n    </tr>\n    <tr>\n      <th>269</th>\n      <td>#1350</td>\n      <td>2/2021</td>\n      <td>Grup caja de ingenieros</td>\n      <td>Domènec Valls Dedeu</td>\n      <td>Alejo Daudi</td>\n      <td>Pendiente</td>\n      <td>domenec.valls@amaris.com</td>\n      <td>Data Scientist</td>\n      <td>NaT</td>\n      <td>NaT</td>\n      <td>NaT</td>\n      <td>2</td>\n      <td>2021</td>\n    </tr>\n    <tr>\n      <th>275</th>\n      <td>#1356</td>\n      <td>2/2021</td>\n      <td>Byrom</td>\n      <td>Ramon Carbonell Isant</td>\n      <td>Abdelfettah BOUJLAL</td>\n      <td>Rechazado</td>\n      <td>ramon.carbonellisant@amaris.com</td>\n      <td>Back End</td>\n      <td>2021-03-01 10:32:12</td>\n      <td>NaT</td>\n      <td>NaT</td>\n      <td>2</td>\n      <td>2021</td>\n    </tr>\n    <tr>\n      <th>288</th>\n      <td>#1369</td>\n      <td>2/2021</td>\n      <td>Tempe</td>\n      <td>Damian Moya</td>\n      <td>Santiago Criado</td>\n      <td>Pendiente</td>\n      <td>damian.moya@amaris.com</td>\n      <td>Desarrollador</td>\n      <td>NaT</td>\n      <td>NaT</td>\n      <td>NaT</td>\n      <td>2</td>\n      <td>2021</td>\n    </tr>\n    <tr>\n      <th>316</th>\n      <td>#1401</td>\n      <td>2/2021</td>\n      <td>Telefonica</td>\n      <td>Aaron Fleming</td>\n      <td>Jaume Poch Blanch</td>\n      <td>Rechazado</td>\n      <td>aaron.fleming@amaris.com</td>\n      <td>QA</td>\n      <td>2021-02-20 18:21:22</td>\n      <td>NaT</td>\n      <td>NaT</td>\n      <td>2</td>\n      <td>2021</td>\n    </tr>\n    <tr>\n      <th>320</th>\n      <td>#1405</td>\n      <td>2/2021</td>\n      <td>Bershka</td>\n      <td>Eugeni Megias Torres</td>\n      <td>Oriol Obach Doménech</td>\n      <td>Pendiente</td>\n      <td>eugeni.megiastorres@amaris.com</td>\n      <td>BI / Big Data / BBDD</td>\n      <td>NaT</td>\n      <td>NaT</td>\n      <td>NaT</td>\n      <td>2</td>\n      <td>2021</td>\n    </tr>\n    <tr>\n      <th>323</th>\n      <td>#1408</td>\n      <td>2/2021</td>\n      <td>AMA</td>\n      <td>Damian Marcen Lupiañez</td>\n      <td>Mercedes Diaz</td>\n      <td>Pendiente</td>\n      <td>damian.marcen@amaris.com</td>\n      <td>Desarrollador</td>\n      <td>NaT</td>\n      <td>NaT</td>\n      <td>NaT</td>\n      <td>2</td>\n      <td>2021</td>\n    </tr>\n    <tr>\n      <th>324</th>\n      <td>#1409</td>\n      <td>2/2021</td>\n      <td>ADP IBERIA</td>\n      <td>Jose Javier Lirio Villena</td>\n      <td>Alejo Daudi</td>\n      <td>Pendiente</td>\n      <td>josejavier.lirio@amaris.com</td>\n      <td>Desarrollador</td>\n      <td>NaT</td>\n      <td>NaT</td>\n      <td>NaT</td>\n      <td>2</td>\n      <td>2021</td>\n    </tr>\n    <tr>\n      <th>325</th>\n      <td>#1410</td>\n      <td>2/2021</td>\n      <td>Tempe</td>\n      <td>Salvador Torres Velasco</td>\n      <td>Santiago Criado</td>\n      <td>Pendiente</td>\n      <td>salvador.torresvelasco@amaris.com</td>\n      <td>Desarrollador</td>\n      <td>NaT</td>\n      <td>NaT</td>\n      <td>NaT</td>\n      <td>2</td>\n      <td>2021</td>\n    </tr>\n    <tr>\n      <th>345</th>\n      <td>#1431</td>\n      <td>2/2021</td>\n      <td>RSI</td>\n      <td>Maria Esther Carrillo Grasso</td>\n      <td>Carlos Gamero Zorita</td>\n      <td>Pendiente</td>\n      <td>mariaesther.carrillograsso@amaris.com</td>\n      <td>Software Dev</td>\n      <td>NaT</td>\n      <td>NaT</td>\n      <td>NaT</td>\n      <td>2</td>\n      <td>2021</td>\n    </tr>\n    <tr>\n      <th>346</th>\n      <td>#1432</td>\n      <td>2/2021</td>\n      <td>Tempe</td>\n      <td>Isaura Ruiz Sojo</td>\n      <td>Mercedes Diaz</td>\n      <td>Pendiente</td>\n      <td>isaura.ruiz@amaris.com</td>\n      <td>Software Dev</td>\n      <td>NaT</td>\n      <td>NaT</td>\n      <td>NaT</td>\n      <td>2</td>\n      <td>2021</td>\n    </tr>\n  </tbody>\n</table>\n</div>"
     },
     "metadata": {},
     "execution_count": 212
    }
   ],
   "source": [
    "ptes"
   ]
  },
  {
   "cell_type": "code",
   "execution_count": 152,
   "metadata": {},
   "outputs": [],
   "source": [
    "countPtes=rep[rep.month!='3'].groupby('Correo del consultor').agg({'Id':'count'}).sort_values(['Id'], ascending=False)"
   ]
  },
  {
   "cell_type": "code",
   "execution_count": 153,
   "metadata": {},
   "outputs": [
    {
     "output_type": "execute_result",
     "data": {
      "text/plain": [
       "                                             Id\n",
       "Correo del consultor                           \n",
       "yajaira.baez@amaris.com                       2\n",
       "josejavier.lirio@amaris.com                   2\n",
       "borja.lledolopez@amaris.com                   2\n",
       "sebastian.tebarmartin@amaris.com              2\n",
       "ricardo.sanchez@amaris.com                    2\n",
       "francisco.javierpulido@amaris.com             2\n",
       "guillem.pitarch@amaris.com                    2\n",
       "javier.millet@amaris.com                      2\n",
       "sebastian.terrasa@amaris.com                  1\n",
       "salvador.torresvelasco@amaris.com             1\n",
       "ramon.carbonellisant@amaris.com               1\n",
       "mariaesther.carrillograsso@amaris.com         1\n",
       "manuel.lopezambrosino@amaris.com              1\n",
       "kilian.bao@amaris.com                         1\n",
       "aaron.fleming@amaris.com                      1\n",
       "jesus.garcia@amaris.com                       1\n",
       "alex.revilla@amaris.com                       1\n",
       "isaura.ruiz@amaris.com                        1\n",
       "fernandoagustin.martinezpalacios@amaris.com   1\n",
       "eugeni.megiastorres@amaris.com                1\n",
       "domenec.valls@amaris.com                      1\n",
       "damian.moya@amaris.com                        1\n",
       "damian.marcen@amaris.com                      1\n",
       "carlos.castedohernandez@amaris.com            1\n",
       "israel.garciasanchez@amaris.com               1"
      ],
      "text/html": "<div>\n<style scoped>\n    .dataframe tbody tr th:only-of-type {\n        vertical-align: middle;\n    }\n\n    .dataframe tbody tr th {\n        vertical-align: top;\n    }\n\n    .dataframe thead th {\n        text-align: right;\n    }\n</style>\n<table border=\"1\" class=\"dataframe\">\n  <thead>\n    <tr style=\"text-align: right;\">\n      <th></th>\n      <th>Id</th>\n    </tr>\n    <tr>\n      <th>Correo del consultor</th>\n      <th></th>\n    </tr>\n  </thead>\n  <tbody>\n    <tr>\n      <th>yajaira.baez@amaris.com</th>\n      <td>2</td>\n    </tr>\n    <tr>\n      <th>josejavier.lirio@amaris.com</th>\n      <td>2</td>\n    </tr>\n    <tr>\n      <th>borja.lledolopez@amaris.com</th>\n      <td>2</td>\n    </tr>\n    <tr>\n      <th>sebastian.tebarmartin@amaris.com</th>\n      <td>2</td>\n    </tr>\n    <tr>\n      <th>ricardo.sanchez@amaris.com</th>\n      <td>2</td>\n    </tr>\n    <tr>\n      <th>francisco.javierpulido@amaris.com</th>\n      <td>2</td>\n    </tr>\n    <tr>\n      <th>guillem.pitarch@amaris.com</th>\n      <td>2</td>\n    </tr>\n    <tr>\n      <th>javier.millet@amaris.com</th>\n      <td>2</td>\n    </tr>\n    <tr>\n      <th>sebastian.terrasa@amaris.com</th>\n      <td>1</td>\n    </tr>\n    <tr>\n      <th>salvador.torresvelasco@amaris.com</th>\n      <td>1</td>\n    </tr>\n    <tr>\n      <th>ramon.carbonellisant@amaris.com</th>\n      <td>1</td>\n    </tr>\n    <tr>\n      <th>mariaesther.carrillograsso@amaris.com</th>\n      <td>1</td>\n    </tr>\n    <tr>\n      <th>manuel.lopezambrosino@amaris.com</th>\n      <td>1</td>\n    </tr>\n    <tr>\n      <th>kilian.bao@amaris.com</th>\n      <td>1</td>\n    </tr>\n    <tr>\n      <th>aaron.fleming@amaris.com</th>\n      <td>1</td>\n    </tr>\n    <tr>\n      <th>jesus.garcia@amaris.com</th>\n      <td>1</td>\n    </tr>\n    <tr>\n      <th>alex.revilla@amaris.com</th>\n      <td>1</td>\n    </tr>\n    <tr>\n      <th>isaura.ruiz@amaris.com</th>\n      <td>1</td>\n    </tr>\n    <tr>\n      <th>fernandoagustin.martinezpalacios@amaris.com</th>\n      <td>1</td>\n    </tr>\n    <tr>\n      <th>eugeni.megiastorres@amaris.com</th>\n      <td>1</td>\n    </tr>\n    <tr>\n      <th>domenec.valls@amaris.com</th>\n      <td>1</td>\n    </tr>\n    <tr>\n      <th>damian.moya@amaris.com</th>\n      <td>1</td>\n    </tr>\n    <tr>\n      <th>damian.marcen@amaris.com</th>\n      <td>1</td>\n    </tr>\n    <tr>\n      <th>carlos.castedohernandez@amaris.com</th>\n      <td>1</td>\n    </tr>\n    <tr>\n      <th>israel.garciasanchez@amaris.com</th>\n      <td>1</td>\n    </tr>\n  </tbody>\n</table>\n</div>"
     },
     "metadata": {},
     "execution_count": 153
    }
   ],
   "source": [
    "countPtes"
   ]
  },
  {
   "cell_type": "code",
   "execution_count": 154,
   "metadata": {},
   "outputs": [],
   "source": [
    "ptes=rep[rep['Fecha del informe']=='2/2021']"
   ]
  },
  {
   "cell_type": "code",
   "execution_count": 176,
   "metadata": {},
   "outputs": [
    {
     "output_type": "execute_result",
     "data": {
      "text/plain": [
       "        Id Fecha del informe                 Proyecto  \\\n",
       "260  #1338            2/2021             ING Finanzas   \n",
       "245  #1323            2/2021                   IT Now   \n",
       "325  #1410            2/2021                    Tempe   \n",
       "185  #1258            2/2021             ING Finanzas   \n",
       "275  #1356            2/2021                    Byrom   \n",
       "345  #1431            2/2021                      RSI   \n",
       "188  #1262            2/2021             ING Finanzas   \n",
       "247  #1325            2/2021    MEDIAPRODUCCIÓN S.L.U   \n",
       "324  #1409            2/2021               ADP IBERIA   \n",
       "265  #1344            2/2021                      BNP   \n",
       "267  #1347            2/2021                      CHS   \n",
       "187  #1261            2/2021             ING Finanzas   \n",
       "346  #1432            2/2021                    Tempe   \n",
       "177  #1631            2/2021                      CHS   \n",
       "197  #1272            2/2021             ING Finanzas   \n",
       "202  #1278            2/2021             ING Finanzas   \n",
       "320  #1405            2/2021                  Bershka   \n",
       "269  #1350            2/2021  Grup caja de ingenieros   \n",
       "288  #1369            2/2021                    Tempe   \n",
       "323  #1408            2/2021                      AMA   \n",
       "183  #1256            2/2021             ING Finanzas   \n",
       "239  #1316            2/2021                   IT Now   \n",
       "316  #1401            2/2021               Telefonica   \n",
       "\n",
       "                              Consultor                         Mánager  \\\n",
       "260                        Yajaira Báez                Tomislav Delalic   \n",
       "245              Sebastian Tebar Martin         Miguel Angel Etcheverry   \n",
       "325             Salvador Torres Velasco                 Santiago Criado   \n",
       "185                     Ricardo Sánchez            Carlos Gamero Zorita   \n",
       "275               Ramon Carbonell Isant             Abdelfettah BOUJLAL   \n",
       "345        Maria Esther Carrillo Grasso            Carlos Gamero Zorita   \n",
       "188               Manuel López Ambrosio  Paul Alejandro Gutierrez Rámos   \n",
       "247                          Kilian Bao                  Estelle Gendre   \n",
       "324           Jose Javier Lirio Villena                     Alejo Daudi   \n",
       "265                 Jesús García Blasco                Tomislav Delalic   \n",
       "267                       Javier Millet             Jesús García Blasco   \n",
       "187              Israel  Garcia Sánchez            Carlos Gamero Zorita   \n",
       "346                    Isaura Ruiz Sojo                  Mercedes Diaz    \n",
       "177                     Guillem Pitarch       Jose Perez Nieto-Sandoval   \n",
       "197     Francisco Javier Pulido Hidalgo          Israel  Garcia Sánchez   \n",
       "202  Fernando Agustín Martínez Palacios          Israel  Garcia Sánchez   \n",
       "320                Eugeni Megias Torres            Oriol Obach Doménech   \n",
       "269                 Domènec Valls Dedeu                     Alejo Daudi   \n",
       "288                         Damian Moya                 Santiago Criado   \n",
       "323             Damian Marcen Lupiañez                   Mercedes Diaz    \n",
       "183            Carlos Castedo Hernández            Carlos Gamero Zorita   \n",
       "239                   Borja Lledo Lopez                    Gonzalo Cruz   \n",
       "316                       Aaron Fleming               Jaume Poch Blanch   \n",
       "\n",
       "        Estado                         Correo del consultor  \\\n",
       "260  Pendiente                      yajaira.baez@amaris.com   \n",
       "245  Pendiente             sebastian.tebarmartin@amaris.com   \n",
       "325  Pendiente            salvador.torresvelasco@amaris.com   \n",
       "185  Pendiente                   ricardo.sanchez@amaris.com   \n",
       "275  Rechazado              ramon.carbonellisant@amaris.com   \n",
       "345  Pendiente        mariaesther.carrillograsso@amaris.com   \n",
       "188  Pendiente             manuel.lopezambrosino@amaris.com   \n",
       "247  Pendiente                        kilian.bao@amaris.com   \n",
       "324  Pendiente                  josejavier.lirio@amaris.com   \n",
       "265  Pendiente                      jesus.garcia@amaris.com   \n",
       "267  Pendiente                     javier.millet@amaris.com   \n",
       "187  Pendiente              israel.garciasanchez@amaris.com   \n",
       "346  Pendiente                       isaura.ruiz@amaris.com   \n",
       "177  Pendiente                   guillem.pitarch@amaris.com   \n",
       "197  Pendiente            francisco.javierpulido@amaris.com   \n",
       "202  Pendiente  fernandoagustin.martinezpalacios@amaris.com   \n",
       "320  Pendiente               eugeni.megiastorres@amaris.com   \n",
       "269  Pendiente                     domenec.valls@amaris.com   \n",
       "288  Pendiente                       damian.moya@amaris.com   \n",
       "323  Pendiente                     damian.marcen@amaris.com   \n",
       "183  Pendiente           carlos.castedohernandez@amaris.com   \n",
       "239  Pendiente                  borja.lledolopez@amaris.com   \n",
       "316  Rechazado                     aaron.fleming@amaris.com   \n",
       "\n",
       "       Función en el proyecto      Fecha de envío Fecha de aprobación  \\\n",
       "260   Agile testing developer                 NaT                 NaT   \n",
       "245                        QA                 NaT                 NaT   \n",
       "325             Desarrollador                 NaT                 NaT   \n",
       "185                 Front End                 NaT                 NaT   \n",
       "275                  Back End 2021-03-01 10:32:12                 NaT   \n",
       "345              Software Dev                 NaT                 NaT   \n",
       "188             Desarrollador                 NaT                 NaT   \n",
       "247             Desarrollador                 NaT                 NaT   \n",
       "324             Desarrollador                 NaT                 NaT   \n",
       "265  Test automation engineer                 NaT                 NaT   \n",
       "267  Test automation engineer                 NaT                 NaT   \n",
       "187             Desarrollador                 NaT                 NaT   \n",
       "346              Software Dev                 NaT                 NaT   \n",
       "177             Desarrollador                 NaT                 NaT   \n",
       "197                 Front End                 NaT                 NaT   \n",
       "202             Desarrollador                 NaT                 NaT   \n",
       "320      BI / Big Data / BBDD                 NaT                 NaT   \n",
       "269            Data Scientist                 NaT                 NaT   \n",
       "288             Desarrollador                 NaT                 NaT   \n",
       "323             Desarrollador                 NaT                 NaT   \n",
       "183             Desarrollador                 NaT                 NaT   \n",
       "239                  Back End                 NaT                 NaT   \n",
       "316                        QA 2021-02-20 18:21:22                 NaT   \n",
       "\n",
       "    Fecha de validación month  year  \n",
       "260                 NaT     2  2021  \n",
       "245                 NaT     2  2021  \n",
       "325                 NaT     2  2021  \n",
       "185                 NaT     2  2021  \n",
       "275                 NaT     2  2021  \n",
       "345                 NaT     2  2021  \n",
       "188                 NaT     2  2021  \n",
       "247                 NaT     2  2021  \n",
       "324                 NaT     2  2021  \n",
       "265                 NaT     2  2021  \n",
       "267                 NaT     2  2021  \n",
       "187                 NaT     2  2021  \n",
       "346                 NaT     2  2021  \n",
       "177                 NaT     2  2021  \n",
       "197                 NaT     2  2021  \n",
       "202                 NaT     2  2021  \n",
       "320                 NaT     2  2021  \n",
       "269                 NaT     2  2021  \n",
       "288                 NaT     2  2021  \n",
       "323                 NaT     2  2021  \n",
       "183                 NaT     2  2021  \n",
       "239                 NaT     2  2021  \n",
       "316                 NaT     2  2021  "
      ],
      "text/html": "<div>\n<style scoped>\n    .dataframe tbody tr th:only-of-type {\n        vertical-align: middle;\n    }\n\n    .dataframe tbody tr th {\n        vertical-align: top;\n    }\n\n    .dataframe thead th {\n        text-align: right;\n    }\n</style>\n<table border=\"1\" class=\"dataframe\">\n  <thead>\n    <tr style=\"text-align: right;\">\n      <th></th>\n      <th>Id</th>\n      <th>Fecha del informe</th>\n      <th>Proyecto</th>\n      <th>Consultor</th>\n      <th>Mánager</th>\n      <th>Estado</th>\n      <th>Correo del consultor</th>\n      <th>Función en el proyecto</th>\n      <th>Fecha de envío</th>\n      <th>Fecha de aprobación</th>\n      <th>Fecha de validación</th>\n      <th>month</th>\n      <th>year</th>\n    </tr>\n  </thead>\n  <tbody>\n    <tr>\n      <th>260</th>\n      <td>#1338</td>\n      <td>2/2021</td>\n      <td>ING Finanzas</td>\n      <td>Yajaira Báez</td>\n      <td>Tomislav Delalic</td>\n      <td>Pendiente</td>\n      <td>yajaira.baez@amaris.com</td>\n      <td>Agile testing developer</td>\n      <td>NaT</td>\n      <td>NaT</td>\n      <td>NaT</td>\n      <td>2</td>\n      <td>2021</td>\n    </tr>\n    <tr>\n      <th>245</th>\n      <td>#1323</td>\n      <td>2/2021</td>\n      <td>IT Now</td>\n      <td>Sebastian Tebar Martin</td>\n      <td>Miguel Angel Etcheverry</td>\n      <td>Pendiente</td>\n      <td>sebastian.tebarmartin@amaris.com</td>\n      <td>QA</td>\n      <td>NaT</td>\n      <td>NaT</td>\n      <td>NaT</td>\n      <td>2</td>\n      <td>2021</td>\n    </tr>\n    <tr>\n      <th>325</th>\n      <td>#1410</td>\n      <td>2/2021</td>\n      <td>Tempe</td>\n      <td>Salvador Torres Velasco</td>\n      <td>Santiago Criado</td>\n      <td>Pendiente</td>\n      <td>salvador.torresvelasco@amaris.com</td>\n      <td>Desarrollador</td>\n      <td>NaT</td>\n      <td>NaT</td>\n      <td>NaT</td>\n      <td>2</td>\n      <td>2021</td>\n    </tr>\n    <tr>\n      <th>185</th>\n      <td>#1258</td>\n      <td>2/2021</td>\n      <td>ING Finanzas</td>\n      <td>Ricardo Sánchez</td>\n      <td>Carlos Gamero Zorita</td>\n      <td>Pendiente</td>\n      <td>ricardo.sanchez@amaris.com</td>\n      <td>Front End</td>\n      <td>NaT</td>\n      <td>NaT</td>\n      <td>NaT</td>\n      <td>2</td>\n      <td>2021</td>\n    </tr>\n    <tr>\n      <th>275</th>\n      <td>#1356</td>\n      <td>2/2021</td>\n      <td>Byrom</td>\n      <td>Ramon Carbonell Isant</td>\n      <td>Abdelfettah BOUJLAL</td>\n      <td>Rechazado</td>\n      <td>ramon.carbonellisant@amaris.com</td>\n      <td>Back End</td>\n      <td>2021-03-01 10:32:12</td>\n      <td>NaT</td>\n      <td>NaT</td>\n      <td>2</td>\n      <td>2021</td>\n    </tr>\n    <tr>\n      <th>345</th>\n      <td>#1431</td>\n      <td>2/2021</td>\n      <td>RSI</td>\n      <td>Maria Esther Carrillo Grasso</td>\n      <td>Carlos Gamero Zorita</td>\n      <td>Pendiente</td>\n      <td>mariaesther.carrillograsso@amaris.com</td>\n      <td>Software Dev</td>\n      <td>NaT</td>\n      <td>NaT</td>\n      <td>NaT</td>\n      <td>2</td>\n      <td>2021</td>\n    </tr>\n    <tr>\n      <th>188</th>\n      <td>#1262</td>\n      <td>2/2021</td>\n      <td>ING Finanzas</td>\n      <td>Manuel López Ambrosio</td>\n      <td>Paul Alejandro Gutierrez Rámos</td>\n      <td>Pendiente</td>\n      <td>manuel.lopezambrosino@amaris.com</td>\n      <td>Desarrollador</td>\n      <td>NaT</td>\n      <td>NaT</td>\n      <td>NaT</td>\n      <td>2</td>\n      <td>2021</td>\n    </tr>\n    <tr>\n      <th>247</th>\n      <td>#1325</td>\n      <td>2/2021</td>\n      <td>MEDIAPRODUCCIÓN S.L.U</td>\n      <td>Kilian Bao</td>\n      <td>Estelle Gendre</td>\n      <td>Pendiente</td>\n      <td>kilian.bao@amaris.com</td>\n      <td>Desarrollador</td>\n      <td>NaT</td>\n      <td>NaT</td>\n      <td>NaT</td>\n      <td>2</td>\n      <td>2021</td>\n    </tr>\n    <tr>\n      <th>324</th>\n      <td>#1409</td>\n      <td>2/2021</td>\n      <td>ADP IBERIA</td>\n      <td>Jose Javier Lirio Villena</td>\n      <td>Alejo Daudi</td>\n      <td>Pendiente</td>\n      <td>josejavier.lirio@amaris.com</td>\n      <td>Desarrollador</td>\n      <td>NaT</td>\n      <td>NaT</td>\n      <td>NaT</td>\n      <td>2</td>\n      <td>2021</td>\n    </tr>\n    <tr>\n      <th>265</th>\n      <td>#1344</td>\n      <td>2/2021</td>\n      <td>BNP</td>\n      <td>Jesús García Blasco</td>\n      <td>Tomislav Delalic</td>\n      <td>Pendiente</td>\n      <td>jesus.garcia@amaris.com</td>\n      <td>Test automation engineer</td>\n      <td>NaT</td>\n      <td>NaT</td>\n      <td>NaT</td>\n      <td>2</td>\n      <td>2021</td>\n    </tr>\n    <tr>\n      <th>267</th>\n      <td>#1347</td>\n      <td>2/2021</td>\n      <td>CHS</td>\n      <td>Javier Millet</td>\n      <td>Jesús García Blasco</td>\n      <td>Pendiente</td>\n      <td>javier.millet@amaris.com</td>\n      <td>Test automation engineer</td>\n      <td>NaT</td>\n      <td>NaT</td>\n      <td>NaT</td>\n      <td>2</td>\n      <td>2021</td>\n    </tr>\n    <tr>\n      <th>187</th>\n      <td>#1261</td>\n      <td>2/2021</td>\n      <td>ING Finanzas</td>\n      <td>Israel  Garcia Sánchez</td>\n      <td>Carlos Gamero Zorita</td>\n      <td>Pendiente</td>\n      <td>israel.garciasanchez@amaris.com</td>\n      <td>Desarrollador</td>\n      <td>NaT</td>\n      <td>NaT</td>\n      <td>NaT</td>\n      <td>2</td>\n      <td>2021</td>\n    </tr>\n    <tr>\n      <th>346</th>\n      <td>#1432</td>\n      <td>2/2021</td>\n      <td>Tempe</td>\n      <td>Isaura Ruiz Sojo</td>\n      <td>Mercedes Diaz</td>\n      <td>Pendiente</td>\n      <td>isaura.ruiz@amaris.com</td>\n      <td>Software Dev</td>\n      <td>NaT</td>\n      <td>NaT</td>\n      <td>NaT</td>\n      <td>2</td>\n      <td>2021</td>\n    </tr>\n    <tr>\n      <th>177</th>\n      <td>#1631</td>\n      <td>2/2021</td>\n      <td>CHS</td>\n      <td>Guillem Pitarch</td>\n      <td>Jose Perez Nieto-Sandoval</td>\n      <td>Pendiente</td>\n      <td>guillem.pitarch@amaris.com</td>\n      <td>Desarrollador</td>\n      <td>NaT</td>\n      <td>NaT</td>\n      <td>NaT</td>\n      <td>2</td>\n      <td>2021</td>\n    </tr>\n    <tr>\n      <th>197</th>\n      <td>#1272</td>\n      <td>2/2021</td>\n      <td>ING Finanzas</td>\n      <td>Francisco Javier Pulido Hidalgo</td>\n      <td>Israel  Garcia Sánchez</td>\n      <td>Pendiente</td>\n      <td>francisco.javierpulido@amaris.com</td>\n      <td>Front End</td>\n      <td>NaT</td>\n      <td>NaT</td>\n      <td>NaT</td>\n      <td>2</td>\n      <td>2021</td>\n    </tr>\n    <tr>\n      <th>202</th>\n      <td>#1278</td>\n      <td>2/2021</td>\n      <td>ING Finanzas</td>\n      <td>Fernando Agustín Martínez Palacios</td>\n      <td>Israel  Garcia Sánchez</td>\n      <td>Pendiente</td>\n      <td>fernandoagustin.martinezpalacios@amaris.com</td>\n      <td>Desarrollador</td>\n      <td>NaT</td>\n      <td>NaT</td>\n      <td>NaT</td>\n      <td>2</td>\n      <td>2021</td>\n    </tr>\n    <tr>\n      <th>320</th>\n      <td>#1405</td>\n      <td>2/2021</td>\n      <td>Bershka</td>\n      <td>Eugeni Megias Torres</td>\n      <td>Oriol Obach Doménech</td>\n      <td>Pendiente</td>\n      <td>eugeni.megiastorres@amaris.com</td>\n      <td>BI / Big Data / BBDD</td>\n      <td>NaT</td>\n      <td>NaT</td>\n      <td>NaT</td>\n      <td>2</td>\n      <td>2021</td>\n    </tr>\n    <tr>\n      <th>269</th>\n      <td>#1350</td>\n      <td>2/2021</td>\n      <td>Grup caja de ingenieros</td>\n      <td>Domènec Valls Dedeu</td>\n      <td>Alejo Daudi</td>\n      <td>Pendiente</td>\n      <td>domenec.valls@amaris.com</td>\n      <td>Data Scientist</td>\n      <td>NaT</td>\n      <td>NaT</td>\n      <td>NaT</td>\n      <td>2</td>\n      <td>2021</td>\n    </tr>\n    <tr>\n      <th>288</th>\n      <td>#1369</td>\n      <td>2/2021</td>\n      <td>Tempe</td>\n      <td>Damian Moya</td>\n      <td>Santiago Criado</td>\n      <td>Pendiente</td>\n      <td>damian.moya@amaris.com</td>\n      <td>Desarrollador</td>\n      <td>NaT</td>\n      <td>NaT</td>\n      <td>NaT</td>\n      <td>2</td>\n      <td>2021</td>\n    </tr>\n    <tr>\n      <th>323</th>\n      <td>#1408</td>\n      <td>2/2021</td>\n      <td>AMA</td>\n      <td>Damian Marcen Lupiañez</td>\n      <td>Mercedes Diaz</td>\n      <td>Pendiente</td>\n      <td>damian.marcen@amaris.com</td>\n      <td>Desarrollador</td>\n      <td>NaT</td>\n      <td>NaT</td>\n      <td>NaT</td>\n      <td>2</td>\n      <td>2021</td>\n    </tr>\n    <tr>\n      <th>183</th>\n      <td>#1256</td>\n      <td>2/2021</td>\n      <td>ING Finanzas</td>\n      <td>Carlos Castedo Hernández</td>\n      <td>Carlos Gamero Zorita</td>\n      <td>Pendiente</td>\n      <td>carlos.castedohernandez@amaris.com</td>\n      <td>Desarrollador</td>\n      <td>NaT</td>\n      <td>NaT</td>\n      <td>NaT</td>\n      <td>2</td>\n      <td>2021</td>\n    </tr>\n    <tr>\n      <th>239</th>\n      <td>#1316</td>\n      <td>2/2021</td>\n      <td>IT Now</td>\n      <td>Borja Lledo Lopez</td>\n      <td>Gonzalo Cruz</td>\n      <td>Pendiente</td>\n      <td>borja.lledolopez@amaris.com</td>\n      <td>Back End</td>\n      <td>NaT</td>\n      <td>NaT</td>\n      <td>NaT</td>\n      <td>2</td>\n      <td>2021</td>\n    </tr>\n    <tr>\n      <th>316</th>\n      <td>#1401</td>\n      <td>2/2021</td>\n      <td>Telefonica</td>\n      <td>Aaron Fleming</td>\n      <td>Jaume Poch Blanch</td>\n      <td>Rechazado</td>\n      <td>aaron.fleming@amaris.com</td>\n      <td>QA</td>\n      <td>2021-02-20 18:21:22</td>\n      <td>NaT</td>\n      <td>NaT</td>\n      <td>2</td>\n      <td>2021</td>\n    </tr>\n  </tbody>\n</table>\n</div>"
     },
     "metadata": {},
     "execution_count": 176
    }
   ],
   "source": [
    "ptes"
   ]
  },
  {
   "cell_type": "code",
   "execution_count": 177,
   "metadata": {},
   "outputs": [],
   "source": [
    "mrg=ptes.merge(df, how='left', left_on='Correo del consultor', right_on='Email')[['Correo del consultor', 'ManagerEmail', 'Fecha del informe', 'Estado', 'Bonificados']]"
   ]
  },
  {
   "cell_type": "code",
   "execution_count": 156,
   "metadata": {},
   "outputs": [
    {
     "output_type": "execute_result",
     "data": {
      "text/plain": [
       "Index(['Correo del consultor', 'ManagerEmail', 'Fecha del informe', 'Estado'], dtype='object')"
      ]
     },
     "metadata": {},
     "execution_count": 156
    }
   ],
   "source": []
  },
  {
   "cell_type": "code",
   "execution_count": 157,
   "metadata": {},
   "outputs": [
    {
     "output_type": "execute_result",
     "data": {
      "text/plain": [
       "                           Correo del consultor  \\\n",
       "0                       yajaira.baez@amaris.com   \n",
       "1              sebastian.tebarmartin@amaris.com   \n",
       "2             salvador.torresvelasco@amaris.com   \n",
       "3                    ricardo.sanchez@amaris.com   \n",
       "4               ramon.carbonellisant@amaris.com   \n",
       "5         mariaesther.carrillograsso@amaris.com   \n",
       "6              manuel.lopezambrosino@amaris.com   \n",
       "7                         kilian.bao@amaris.com   \n",
       "8                   josejavier.lirio@amaris.com   \n",
       "9                       jesus.garcia@amaris.com   \n",
       "10                     javier.millet@amaris.com   \n",
       "11              israel.garciasanchez@amaris.com   \n",
       "12                       isaura.ruiz@amaris.com   \n",
       "13                   guillem.pitarch@amaris.com   \n",
       "14            francisco.javierpulido@amaris.com   \n",
       "15  fernandoagustin.martinezpalacios@amaris.com   \n",
       "16               eugeni.megiastorres@amaris.com   \n",
       "17                     domenec.valls@amaris.com   \n",
       "18                       damian.moya@amaris.com   \n",
       "19                     damian.marcen@amaris.com   \n",
       "20           carlos.castedohernandez@amaris.com   \n",
       "21                  borja.lledolopez@amaris.com   \n",
       "22                     aaron.fleming@amaris.com   \n",
       "\n",
       "                         ManagerEmail Fecha del informe     Estado  Id  \n",
       "0         tomislav.delalic@amaris.com            2/2021  Pendiente   2  \n",
       "1   miguelangel.etcheverry@amaris.com            2/2021  Pendiente   2  \n",
       "2                  scriado@amaris.com            2/2021  Pendiente   1  \n",
       "3      carlos.gamerozorita@amaris.com            2/2021  Pendiente   2  \n",
       "4      abdelfettah.boujlal@amaris.com            2/2021  Rechazado   1  \n",
       "5      carlos.gamerozorita@amaris.com            2/2021  Pendiente   1  \n",
       "6    eider.ibarrecheogando@amaris.com            2/2021  Pendiente   1  \n",
       "7                  egendre@amaris.com            2/2021  Pendiente   1  \n",
       "8                   adaudi@amaris.com            2/2021  Pendiente   2  \n",
       "9         tomislav.delalic@amaris.com            2/2021  Pendiente   1  \n",
       "10            jesus.garcia@amaris.com            2/2021  Pendiente   2  \n",
       "11     carlos.gamerozorita@amaris.com            2/2021  Pendiente   1  \n",
       "12                 scriado@amaris.com            2/2021  Pendiente   1  \n",
       "13            jesus.garcia@amaris.com            2/2021  Pendiente   2  \n",
       "14    israel.garciasanchez@amaris.com            2/2021  Pendiente   2  \n",
       "15    israel.garciasanchez@amaris.com            2/2021  Pendiente   1  \n",
       "16                  oobach@amaris.com            2/2021  Pendiente   1  \n",
       "17                  adaudi@amaris.com            2/2021  Pendiente   1  \n",
       "18                 scriado@amaris.com            2/2021  Pendiente   1  \n",
       "19                   mdiaz@amaris.com            2/2021  Pendiente   1  \n",
       "20     carlos.gamerozorita@amaris.com            2/2021  Pendiente   1  \n",
       "21            gonzalo.cruz@amaris.com            2/2021  Pendiente   2  \n",
       "22        jaume.pochblanch@amaris.com            2/2021  Rechazado   1  "
      ],
      "text/html": "<div>\n<style scoped>\n    .dataframe tbody tr th:only-of-type {\n        vertical-align: middle;\n    }\n\n    .dataframe tbody tr th {\n        vertical-align: top;\n    }\n\n    .dataframe thead th {\n        text-align: right;\n    }\n</style>\n<table border=\"1\" class=\"dataframe\">\n  <thead>\n    <tr style=\"text-align: right;\">\n      <th></th>\n      <th>Correo del consultor</th>\n      <th>ManagerEmail</th>\n      <th>Fecha del informe</th>\n      <th>Estado</th>\n      <th>Id</th>\n    </tr>\n  </thead>\n  <tbody>\n    <tr>\n      <th>0</th>\n      <td>yajaira.baez@amaris.com</td>\n      <td>tomislav.delalic@amaris.com</td>\n      <td>2/2021</td>\n      <td>Pendiente</td>\n      <td>2</td>\n    </tr>\n    <tr>\n      <th>1</th>\n      <td>sebastian.tebarmartin@amaris.com</td>\n      <td>miguelangel.etcheverry@amaris.com</td>\n      <td>2/2021</td>\n      <td>Pendiente</td>\n      <td>2</td>\n    </tr>\n    <tr>\n      <th>2</th>\n      <td>salvador.torresvelasco@amaris.com</td>\n      <td>scriado@amaris.com</td>\n      <td>2/2021</td>\n      <td>Pendiente</td>\n      <td>1</td>\n    </tr>\n    <tr>\n      <th>3</th>\n      <td>ricardo.sanchez@amaris.com</td>\n      <td>carlos.gamerozorita@amaris.com</td>\n      <td>2/2021</td>\n      <td>Pendiente</td>\n      <td>2</td>\n    </tr>\n    <tr>\n      <th>4</th>\n      <td>ramon.carbonellisant@amaris.com</td>\n      <td>abdelfettah.boujlal@amaris.com</td>\n      <td>2/2021</td>\n      <td>Rechazado</td>\n      <td>1</td>\n    </tr>\n    <tr>\n      <th>5</th>\n      <td>mariaesther.carrillograsso@amaris.com</td>\n      <td>carlos.gamerozorita@amaris.com</td>\n      <td>2/2021</td>\n      <td>Pendiente</td>\n      <td>1</td>\n    </tr>\n    <tr>\n      <th>6</th>\n      <td>manuel.lopezambrosino@amaris.com</td>\n      <td>eider.ibarrecheogando@amaris.com</td>\n      <td>2/2021</td>\n      <td>Pendiente</td>\n      <td>1</td>\n    </tr>\n    <tr>\n      <th>7</th>\n      <td>kilian.bao@amaris.com</td>\n      <td>egendre@amaris.com</td>\n      <td>2/2021</td>\n      <td>Pendiente</td>\n      <td>1</td>\n    </tr>\n    <tr>\n      <th>8</th>\n      <td>josejavier.lirio@amaris.com</td>\n      <td>adaudi@amaris.com</td>\n      <td>2/2021</td>\n      <td>Pendiente</td>\n      <td>2</td>\n    </tr>\n    <tr>\n      <th>9</th>\n      <td>jesus.garcia@amaris.com</td>\n      <td>tomislav.delalic@amaris.com</td>\n      <td>2/2021</td>\n      <td>Pendiente</td>\n      <td>1</td>\n    </tr>\n    <tr>\n      <th>10</th>\n      <td>javier.millet@amaris.com</td>\n      <td>jesus.garcia@amaris.com</td>\n      <td>2/2021</td>\n      <td>Pendiente</td>\n      <td>2</td>\n    </tr>\n    <tr>\n      <th>11</th>\n      <td>israel.garciasanchez@amaris.com</td>\n      <td>carlos.gamerozorita@amaris.com</td>\n      <td>2/2021</td>\n      <td>Pendiente</td>\n      <td>1</td>\n    </tr>\n    <tr>\n      <th>12</th>\n      <td>isaura.ruiz@amaris.com</td>\n      <td>scriado@amaris.com</td>\n      <td>2/2021</td>\n      <td>Pendiente</td>\n      <td>1</td>\n    </tr>\n    <tr>\n      <th>13</th>\n      <td>guillem.pitarch@amaris.com</td>\n      <td>jesus.garcia@amaris.com</td>\n      <td>2/2021</td>\n      <td>Pendiente</td>\n      <td>2</td>\n    </tr>\n    <tr>\n      <th>14</th>\n      <td>francisco.javierpulido@amaris.com</td>\n      <td>israel.garciasanchez@amaris.com</td>\n      <td>2/2021</td>\n      <td>Pendiente</td>\n      <td>2</td>\n    </tr>\n    <tr>\n      <th>15</th>\n      <td>fernandoagustin.martinezpalacios@amaris.com</td>\n      <td>israel.garciasanchez@amaris.com</td>\n      <td>2/2021</td>\n      <td>Pendiente</td>\n      <td>1</td>\n    </tr>\n    <tr>\n      <th>16</th>\n      <td>eugeni.megiastorres@amaris.com</td>\n      <td>oobach@amaris.com</td>\n      <td>2/2021</td>\n      <td>Pendiente</td>\n      <td>1</td>\n    </tr>\n    <tr>\n      <th>17</th>\n      <td>domenec.valls@amaris.com</td>\n      <td>adaudi@amaris.com</td>\n      <td>2/2021</td>\n      <td>Pendiente</td>\n      <td>1</td>\n    </tr>\n    <tr>\n      <th>18</th>\n      <td>damian.moya@amaris.com</td>\n      <td>scriado@amaris.com</td>\n      <td>2/2021</td>\n      <td>Pendiente</td>\n      <td>1</td>\n    </tr>\n    <tr>\n      <th>19</th>\n      <td>damian.marcen@amaris.com</td>\n      <td>mdiaz@amaris.com</td>\n      <td>2/2021</td>\n      <td>Pendiente</td>\n      <td>1</td>\n    </tr>\n    <tr>\n      <th>20</th>\n      <td>carlos.castedohernandez@amaris.com</td>\n      <td>carlos.gamerozorita@amaris.com</td>\n      <td>2/2021</td>\n      <td>Pendiente</td>\n      <td>1</td>\n    </tr>\n    <tr>\n      <th>21</th>\n      <td>borja.lledolopez@amaris.com</td>\n      <td>gonzalo.cruz@amaris.com</td>\n      <td>2/2021</td>\n      <td>Pendiente</td>\n      <td>2</td>\n    </tr>\n    <tr>\n      <th>22</th>\n      <td>aaron.fleming@amaris.com</td>\n      <td>jaume.pochblanch@amaris.com</td>\n      <td>2/2021</td>\n      <td>Rechazado</td>\n      <td>1</td>\n    </tr>\n  </tbody>\n</table>\n</div>"
     },
     "metadata": {},
     "execution_count": 157
    }
   ],
   "source": [
    "mrg=mrg.merge(countPtes, how='left', on='Correo del consultor')\n",
    "mrg"
   ]
  },
  {
   "cell_type": "code",
   "execution_count": 158,
   "metadata": {},
   "outputs": [
    {
     "output_type": "execute_result",
     "data": {
      "text/plain": [
       "                                      consultor  \\\n",
       "0                       yajaira.baez@amaris.com   \n",
       "1              sebastian.tebarmartin@amaris.com   \n",
       "2             salvador.torresvelasco@amaris.com   \n",
       "3                    ricardo.sanchez@amaris.com   \n",
       "4               ramon.carbonellisant@amaris.com   \n",
       "5         mariaesther.carrillograsso@amaris.com   \n",
       "6              manuel.lopezambrosino@amaris.com   \n",
       "7                         kilian.bao@amaris.com   \n",
       "8                   josejavier.lirio@amaris.com   \n",
       "9                       jesus.garcia@amaris.com   \n",
       "10                     javier.millet@amaris.com   \n",
       "11              israel.garciasanchez@amaris.com   \n",
       "12                       isaura.ruiz@amaris.com   \n",
       "13                   guillem.pitarch@amaris.com   \n",
       "14            francisco.javierpulido@amaris.com   \n",
       "15  fernandoagustin.martinezpalacios@amaris.com   \n",
       "16               eugeni.megiastorres@amaris.com   \n",
       "17                     domenec.valls@amaris.com   \n",
       "18                       damian.moya@amaris.com   \n",
       "19                     damian.marcen@amaris.com   \n",
       "20           carlos.castedohernandez@amaris.com   \n",
       "21                  borja.lledolopez@amaris.com   \n",
       "22                     aaron.fleming@amaris.com   \n",
       "\n",
       "                              manager     mes     estado  backlog  \n",
       "0         tomislav.delalic@amaris.com  2/2021  Pendiente        2  \n",
       "1   miguelangel.etcheverry@amaris.com  2/2021  Pendiente        2  \n",
       "2                  scriado@amaris.com  2/2021  Pendiente        1  \n",
       "3      carlos.gamerozorita@amaris.com  2/2021  Pendiente        2  \n",
       "4      abdelfettah.boujlal@amaris.com  2/2021  Rechazado        1  \n",
       "5      carlos.gamerozorita@amaris.com  2/2021  Pendiente        1  \n",
       "6    eider.ibarrecheogando@amaris.com  2/2021  Pendiente        1  \n",
       "7                  egendre@amaris.com  2/2021  Pendiente        1  \n",
       "8                   adaudi@amaris.com  2/2021  Pendiente        2  \n",
       "9         tomislav.delalic@amaris.com  2/2021  Pendiente        1  \n",
       "10            jesus.garcia@amaris.com  2/2021  Pendiente        2  \n",
       "11     carlos.gamerozorita@amaris.com  2/2021  Pendiente        1  \n",
       "12                 scriado@amaris.com  2/2021  Pendiente        1  \n",
       "13            jesus.garcia@amaris.com  2/2021  Pendiente        2  \n",
       "14    israel.garciasanchez@amaris.com  2/2021  Pendiente        2  \n",
       "15    israel.garciasanchez@amaris.com  2/2021  Pendiente        1  \n",
       "16                  oobach@amaris.com  2/2021  Pendiente        1  \n",
       "17                  adaudi@amaris.com  2/2021  Pendiente        1  \n",
       "18                 scriado@amaris.com  2/2021  Pendiente        1  \n",
       "19                   mdiaz@amaris.com  2/2021  Pendiente        1  \n",
       "20     carlos.gamerozorita@amaris.com  2/2021  Pendiente        1  \n",
       "21            gonzalo.cruz@amaris.com  2/2021  Pendiente        2  \n",
       "22        jaume.pochblanch@amaris.com  2/2021  Rechazado        1  "
      ],
      "text/html": "<div>\n<style scoped>\n    .dataframe tbody tr th:only-of-type {\n        vertical-align: middle;\n    }\n\n    .dataframe tbody tr th {\n        vertical-align: top;\n    }\n\n    .dataframe thead th {\n        text-align: right;\n    }\n</style>\n<table border=\"1\" class=\"dataframe\">\n  <thead>\n    <tr style=\"text-align: right;\">\n      <th></th>\n      <th>consultor</th>\n      <th>manager</th>\n      <th>mes</th>\n      <th>estado</th>\n      <th>backlog</th>\n    </tr>\n  </thead>\n  <tbody>\n    <tr>\n      <th>0</th>\n      <td>yajaira.baez@amaris.com</td>\n      <td>tomislav.delalic@amaris.com</td>\n      <td>2/2021</td>\n      <td>Pendiente</td>\n      <td>2</td>\n    </tr>\n    <tr>\n      <th>1</th>\n      <td>sebastian.tebarmartin@amaris.com</td>\n      <td>miguelangel.etcheverry@amaris.com</td>\n      <td>2/2021</td>\n      <td>Pendiente</td>\n      <td>2</td>\n    </tr>\n    <tr>\n      <th>2</th>\n      <td>salvador.torresvelasco@amaris.com</td>\n      <td>scriado@amaris.com</td>\n      <td>2/2021</td>\n      <td>Pendiente</td>\n      <td>1</td>\n    </tr>\n    <tr>\n      <th>3</th>\n      <td>ricardo.sanchez@amaris.com</td>\n      <td>carlos.gamerozorita@amaris.com</td>\n      <td>2/2021</td>\n      <td>Pendiente</td>\n      <td>2</td>\n    </tr>\n    <tr>\n      <th>4</th>\n      <td>ramon.carbonellisant@amaris.com</td>\n      <td>abdelfettah.boujlal@amaris.com</td>\n      <td>2/2021</td>\n      <td>Rechazado</td>\n      <td>1</td>\n    </tr>\n    <tr>\n      <th>5</th>\n      <td>mariaesther.carrillograsso@amaris.com</td>\n      <td>carlos.gamerozorita@amaris.com</td>\n      <td>2/2021</td>\n      <td>Pendiente</td>\n      <td>1</td>\n    </tr>\n    <tr>\n      <th>6</th>\n      <td>manuel.lopezambrosino@amaris.com</td>\n      <td>eider.ibarrecheogando@amaris.com</td>\n      <td>2/2021</td>\n      <td>Pendiente</td>\n      <td>1</td>\n    </tr>\n    <tr>\n      <th>7</th>\n      <td>kilian.bao@amaris.com</td>\n      <td>egendre@amaris.com</td>\n      <td>2/2021</td>\n      <td>Pendiente</td>\n      <td>1</td>\n    </tr>\n    <tr>\n      <th>8</th>\n      <td>josejavier.lirio@amaris.com</td>\n      <td>adaudi@amaris.com</td>\n      <td>2/2021</td>\n      <td>Pendiente</td>\n      <td>2</td>\n    </tr>\n    <tr>\n      <th>9</th>\n      <td>jesus.garcia@amaris.com</td>\n      <td>tomislav.delalic@amaris.com</td>\n      <td>2/2021</td>\n      <td>Pendiente</td>\n      <td>1</td>\n    </tr>\n    <tr>\n      <th>10</th>\n      <td>javier.millet@amaris.com</td>\n      <td>jesus.garcia@amaris.com</td>\n      <td>2/2021</td>\n      <td>Pendiente</td>\n      <td>2</td>\n    </tr>\n    <tr>\n      <th>11</th>\n      <td>israel.garciasanchez@amaris.com</td>\n      <td>carlos.gamerozorita@amaris.com</td>\n      <td>2/2021</td>\n      <td>Pendiente</td>\n      <td>1</td>\n    </tr>\n    <tr>\n      <th>12</th>\n      <td>isaura.ruiz@amaris.com</td>\n      <td>scriado@amaris.com</td>\n      <td>2/2021</td>\n      <td>Pendiente</td>\n      <td>1</td>\n    </tr>\n    <tr>\n      <th>13</th>\n      <td>guillem.pitarch@amaris.com</td>\n      <td>jesus.garcia@amaris.com</td>\n      <td>2/2021</td>\n      <td>Pendiente</td>\n      <td>2</td>\n    </tr>\n    <tr>\n      <th>14</th>\n      <td>francisco.javierpulido@amaris.com</td>\n      <td>israel.garciasanchez@amaris.com</td>\n      <td>2/2021</td>\n      <td>Pendiente</td>\n      <td>2</td>\n    </tr>\n    <tr>\n      <th>15</th>\n      <td>fernandoagustin.martinezpalacios@amaris.com</td>\n      <td>israel.garciasanchez@amaris.com</td>\n      <td>2/2021</td>\n      <td>Pendiente</td>\n      <td>1</td>\n    </tr>\n    <tr>\n      <th>16</th>\n      <td>eugeni.megiastorres@amaris.com</td>\n      <td>oobach@amaris.com</td>\n      <td>2/2021</td>\n      <td>Pendiente</td>\n      <td>1</td>\n    </tr>\n    <tr>\n      <th>17</th>\n      <td>domenec.valls@amaris.com</td>\n      <td>adaudi@amaris.com</td>\n      <td>2/2021</td>\n      <td>Pendiente</td>\n      <td>1</td>\n    </tr>\n    <tr>\n      <th>18</th>\n      <td>damian.moya@amaris.com</td>\n      <td>scriado@amaris.com</td>\n      <td>2/2021</td>\n      <td>Pendiente</td>\n      <td>1</td>\n    </tr>\n    <tr>\n      <th>19</th>\n      <td>damian.marcen@amaris.com</td>\n      <td>mdiaz@amaris.com</td>\n      <td>2/2021</td>\n      <td>Pendiente</td>\n      <td>1</td>\n    </tr>\n    <tr>\n      <th>20</th>\n      <td>carlos.castedohernandez@amaris.com</td>\n      <td>carlos.gamerozorita@amaris.com</td>\n      <td>2/2021</td>\n      <td>Pendiente</td>\n      <td>1</td>\n    </tr>\n    <tr>\n      <th>21</th>\n      <td>borja.lledolopez@amaris.com</td>\n      <td>gonzalo.cruz@amaris.com</td>\n      <td>2/2021</td>\n      <td>Pendiente</td>\n      <td>2</td>\n    </tr>\n    <tr>\n      <th>22</th>\n      <td>aaron.fleming@amaris.com</td>\n      <td>jaume.pochblanch@amaris.com</td>\n      <td>2/2021</td>\n      <td>Rechazado</td>\n      <td>1</td>\n    </tr>\n  </tbody>\n</table>\n</div>"
     },
     "metadata": {},
     "execution_count": 158
    }
   ],
   "source": [
    "mrg=mrg.rename(columns={'Correo del consultor':'consultor', 'ManagerEmail':'manager', 'Fecha del informe':'mes/año', 'Estado':'estado', 'Id': 'backlog'})\n",
    "\n",
    "mrg\n"
   ]
  },
  {
   "cell_type": "code",
   "execution_count": 159,
   "metadata": {},
   "outputs": [],
   "source": [
    "mrg_soloUno=mrg[mrg.backlog==1]\n",
    "mrg_masdeUno=mrg[mrg.backlog!=1]\n"
   ]
  },
  {
   "cell_type": "code",
   "execution_count": 161,
   "metadata": {},
   "outputs": [
    {
     "output_type": "execute_result",
     "data": {
      "text/plain": [
       "                            consultor                            manager  \\\n",
       "0             yajaira.baez@amaris.com        tomislav.delalic@amaris.com   \n",
       "1    sebastian.tebarmartin@amaris.com  miguelangel.etcheverry@amaris.com   \n",
       "3          ricardo.sanchez@amaris.com     carlos.gamerozorita@amaris.com   \n",
       "8         josejavier.lirio@amaris.com                  adaudi@amaris.com   \n",
       "10           javier.millet@amaris.com            jesus.garcia@amaris.com   \n",
       "13         guillem.pitarch@amaris.com            jesus.garcia@amaris.com   \n",
       "14  francisco.javierpulido@amaris.com    israel.garciasanchez@amaris.com   \n",
       "21        borja.lledolopez@amaris.com            gonzalo.cruz@amaris.com   \n",
       "\n",
       "       mes     estado  backlog  \n",
       "0   2/2021  Pendiente        2  \n",
       "1   2/2021  Pendiente        2  \n",
       "3   2/2021  Pendiente        2  \n",
       "8   2/2021  Pendiente        2  \n",
       "10  2/2021  Pendiente        2  \n",
       "13  2/2021  Pendiente        2  \n",
       "14  2/2021  Pendiente        2  \n",
       "21  2/2021  Pendiente        2  "
      ],
      "text/html": "<div>\n<style scoped>\n    .dataframe tbody tr th:only-of-type {\n        vertical-align: middle;\n    }\n\n    .dataframe tbody tr th {\n        vertical-align: top;\n    }\n\n    .dataframe thead th {\n        text-align: right;\n    }\n</style>\n<table border=\"1\" class=\"dataframe\">\n  <thead>\n    <tr style=\"text-align: right;\">\n      <th></th>\n      <th>consultor</th>\n      <th>manager</th>\n      <th>mes</th>\n      <th>estado</th>\n      <th>backlog</th>\n    </tr>\n  </thead>\n  <tbody>\n    <tr>\n      <th>0</th>\n      <td>yajaira.baez@amaris.com</td>\n      <td>tomislav.delalic@amaris.com</td>\n      <td>2/2021</td>\n      <td>Pendiente</td>\n      <td>2</td>\n    </tr>\n    <tr>\n      <th>1</th>\n      <td>sebastian.tebarmartin@amaris.com</td>\n      <td>miguelangel.etcheverry@amaris.com</td>\n      <td>2/2021</td>\n      <td>Pendiente</td>\n      <td>2</td>\n    </tr>\n    <tr>\n      <th>3</th>\n      <td>ricardo.sanchez@amaris.com</td>\n      <td>carlos.gamerozorita@amaris.com</td>\n      <td>2/2021</td>\n      <td>Pendiente</td>\n      <td>2</td>\n    </tr>\n    <tr>\n      <th>8</th>\n      <td>josejavier.lirio@amaris.com</td>\n      <td>adaudi@amaris.com</td>\n      <td>2/2021</td>\n      <td>Pendiente</td>\n      <td>2</td>\n    </tr>\n    <tr>\n      <th>10</th>\n      <td>javier.millet@amaris.com</td>\n      <td>jesus.garcia@amaris.com</td>\n      <td>2/2021</td>\n      <td>Pendiente</td>\n      <td>2</td>\n    </tr>\n    <tr>\n      <th>13</th>\n      <td>guillem.pitarch@amaris.com</td>\n      <td>jesus.garcia@amaris.com</td>\n      <td>2/2021</td>\n      <td>Pendiente</td>\n      <td>2</td>\n    </tr>\n    <tr>\n      <th>14</th>\n      <td>francisco.javierpulido@amaris.com</td>\n      <td>israel.garciasanchez@amaris.com</td>\n      <td>2/2021</td>\n      <td>Pendiente</td>\n      <td>2</td>\n    </tr>\n    <tr>\n      <th>21</th>\n      <td>borja.lledolopez@amaris.com</td>\n      <td>gonzalo.cruz@amaris.com</td>\n      <td>2/2021</td>\n      <td>Pendiente</td>\n      <td>2</td>\n    </tr>\n  </tbody>\n</table>\n</div>"
     },
     "metadata": {},
     "execution_count": 161
    }
   ],
   "source": [
    "mrg_masdeUno"
   ]
  },
  {
   "cell_type": "code",
   "execution_count": 75,
   "metadata": {},
   "outputs": [],
   "source": []
  },
  {
   "cell_type": "code",
   "execution_count": 76,
   "metadata": {},
   "outputs": [
    {
     "output_type": "execute_result",
     "data": {
      "text/plain": [
       "                                      consultor  \\\n",
       "0                       yajaira.baez@amaris.com   \n",
       "1              sebastian.tebarmartin@amaris.com   \n",
       "2             salvador.torresvelasco@amaris.com   \n",
       "3                    ricardo.sanchez@amaris.com   \n",
       "4               ramon.carbonellisant@amaris.com   \n",
       "5         mariaesther.carrillograsso@amaris.com   \n",
       "6              manuel.lopezambrosino@amaris.com   \n",
       "7                         kilian.bao@amaris.com   \n",
       "8                   josejavier.lirio@amaris.com   \n",
       "9                       jesus.garcia@amaris.com   \n",
       "10                     javier.millet@amaris.com   \n",
       "11              israel.garciasanchez@amaris.com   \n",
       "12                       isaura.ruiz@amaris.com   \n",
       "13                   guillem.pitarch@amaris.com   \n",
       "14            francisco.javierpulido@amaris.com   \n",
       "15  fernandoagustin.martinezpalacios@amaris.com   \n",
       "16               eugeni.megiastorres@amaris.com   \n",
       "17                     domenec.valls@amaris.com   \n",
       "18                       damian.moya@amaris.com   \n",
       "19                     damian.marcen@amaris.com   \n",
       "20           carlos.castedohernandez@amaris.com   \n",
       "21                  borja.lledolopez@amaris.com   \n",
       "22                     aaron.fleming@amaris.com   \n",
       "\n",
       "                              manager     mes     estado  \n",
       "0         tomislav.delalic@amaris.com  2/2021  Pendiente  \n",
       "1   miguelangel.etcheverry@amaris.com  2/2021  Pendiente  \n",
       "2                  scriado@amaris.com  2/2021  Pendiente  \n",
       "3      carlos.gamerozorita@amaris.com  2/2021  Pendiente  \n",
       "4      abdelfettah.boujlal@amaris.com  2/2021  Rechazado  \n",
       "5      carlos.gamerozorita@amaris.com  2/2021  Pendiente  \n",
       "6    eider.ibarrecheogando@amaris.com  2/2021  Pendiente  \n",
       "7                  egendre@amaris.com  2/2021  Pendiente  \n",
       "8                   adaudi@amaris.com  2/2021  Pendiente  \n",
       "9         tomislav.delalic@amaris.com  2/2021  Pendiente  \n",
       "10            jesus.garcia@amaris.com  2/2021  Pendiente  \n",
       "11     carlos.gamerozorita@amaris.com  2/2021  Pendiente  \n",
       "12                 scriado@amaris.com  2/2021  Pendiente  \n",
       "13            jesus.garcia@amaris.com  2/2021  Pendiente  \n",
       "14    israel.garciasanchez@amaris.com  2/2021  Pendiente  \n",
       "15    israel.garciasanchez@amaris.com  2/2021  Pendiente  \n",
       "16                  oobach@amaris.com  2/2021  Pendiente  \n",
       "17                  adaudi@amaris.com  2/2021  Pendiente  \n",
       "18                 scriado@amaris.com  2/2021  Pendiente  \n",
       "19                   mdiaz@amaris.com  2/2021  Pendiente  \n",
       "20     carlos.gamerozorita@amaris.com  2/2021  Pendiente  \n",
       "21            gonzalo.cruz@amaris.com  2/2021  Pendiente  \n",
       "22        jaume.pochblanch@amaris.com  2/2021  Rechazado  "
      ],
      "text/html": "<div>\n<style scoped>\n    .dataframe tbody tr th:only-of-type {\n        vertical-align: middle;\n    }\n\n    .dataframe tbody tr th {\n        vertical-align: top;\n    }\n\n    .dataframe thead th {\n        text-align: right;\n    }\n</style>\n<table border=\"1\" class=\"dataframe\">\n  <thead>\n    <tr style=\"text-align: right;\">\n      <th></th>\n      <th>consultor</th>\n      <th>manager</th>\n      <th>mes</th>\n      <th>estado</th>\n    </tr>\n  </thead>\n  <tbody>\n    <tr>\n      <th>0</th>\n      <td>yajaira.baez@amaris.com</td>\n      <td>tomislav.delalic@amaris.com</td>\n      <td>2/2021</td>\n      <td>Pendiente</td>\n    </tr>\n    <tr>\n      <th>1</th>\n      <td>sebastian.tebarmartin@amaris.com</td>\n      <td>miguelangel.etcheverry@amaris.com</td>\n      <td>2/2021</td>\n      <td>Pendiente</td>\n    </tr>\n    <tr>\n      <th>2</th>\n      <td>salvador.torresvelasco@amaris.com</td>\n      <td>scriado@amaris.com</td>\n      <td>2/2021</td>\n      <td>Pendiente</td>\n    </tr>\n    <tr>\n      <th>3</th>\n      <td>ricardo.sanchez@amaris.com</td>\n      <td>carlos.gamerozorita@amaris.com</td>\n      <td>2/2021</td>\n      <td>Pendiente</td>\n    </tr>\n    <tr>\n      <th>4</th>\n      <td>ramon.carbonellisant@amaris.com</td>\n      <td>abdelfettah.boujlal@amaris.com</td>\n      <td>2/2021</td>\n      <td>Rechazado</td>\n    </tr>\n    <tr>\n      <th>5</th>\n      <td>mariaesther.carrillograsso@amaris.com</td>\n      <td>carlos.gamerozorita@amaris.com</td>\n      <td>2/2021</td>\n      <td>Pendiente</td>\n    </tr>\n    <tr>\n      <th>6</th>\n      <td>manuel.lopezambrosino@amaris.com</td>\n      <td>eider.ibarrecheogando@amaris.com</td>\n      <td>2/2021</td>\n      <td>Pendiente</td>\n    </tr>\n    <tr>\n      <th>7</th>\n      <td>kilian.bao@amaris.com</td>\n      <td>egendre@amaris.com</td>\n      <td>2/2021</td>\n      <td>Pendiente</td>\n    </tr>\n    <tr>\n      <th>8</th>\n      <td>josejavier.lirio@amaris.com</td>\n      <td>adaudi@amaris.com</td>\n      <td>2/2021</td>\n      <td>Pendiente</td>\n    </tr>\n    <tr>\n      <th>9</th>\n      <td>jesus.garcia@amaris.com</td>\n      <td>tomislav.delalic@amaris.com</td>\n      <td>2/2021</td>\n      <td>Pendiente</td>\n    </tr>\n    <tr>\n      <th>10</th>\n      <td>javier.millet@amaris.com</td>\n      <td>jesus.garcia@amaris.com</td>\n      <td>2/2021</td>\n      <td>Pendiente</td>\n    </tr>\n    <tr>\n      <th>11</th>\n      <td>israel.garciasanchez@amaris.com</td>\n      <td>carlos.gamerozorita@amaris.com</td>\n      <td>2/2021</td>\n      <td>Pendiente</td>\n    </tr>\n    <tr>\n      <th>12</th>\n      <td>isaura.ruiz@amaris.com</td>\n      <td>scriado@amaris.com</td>\n      <td>2/2021</td>\n      <td>Pendiente</td>\n    </tr>\n    <tr>\n      <th>13</th>\n      <td>guillem.pitarch@amaris.com</td>\n      <td>jesus.garcia@amaris.com</td>\n      <td>2/2021</td>\n      <td>Pendiente</td>\n    </tr>\n    <tr>\n      <th>14</th>\n      <td>francisco.javierpulido@amaris.com</td>\n      <td>israel.garciasanchez@amaris.com</td>\n      <td>2/2021</td>\n      <td>Pendiente</td>\n    </tr>\n    <tr>\n      <th>15</th>\n      <td>fernandoagustin.martinezpalacios@amaris.com</td>\n      <td>israel.garciasanchez@amaris.com</td>\n      <td>2/2021</td>\n      <td>Pendiente</td>\n    </tr>\n    <tr>\n      <th>16</th>\n      <td>eugeni.megiastorres@amaris.com</td>\n      <td>oobach@amaris.com</td>\n      <td>2/2021</td>\n      <td>Pendiente</td>\n    </tr>\n    <tr>\n      <th>17</th>\n      <td>domenec.valls@amaris.com</td>\n      <td>adaudi@amaris.com</td>\n      <td>2/2021</td>\n      <td>Pendiente</td>\n    </tr>\n    <tr>\n      <th>18</th>\n      <td>damian.moya@amaris.com</td>\n      <td>scriado@amaris.com</td>\n      <td>2/2021</td>\n      <td>Pendiente</td>\n    </tr>\n    <tr>\n      <th>19</th>\n      <td>damian.marcen@amaris.com</td>\n      <td>mdiaz@amaris.com</td>\n      <td>2/2021</td>\n      <td>Pendiente</td>\n    </tr>\n    <tr>\n      <th>20</th>\n      <td>carlos.castedohernandez@amaris.com</td>\n      <td>carlos.gamerozorita@amaris.com</td>\n      <td>2/2021</td>\n      <td>Pendiente</td>\n    </tr>\n    <tr>\n      <th>21</th>\n      <td>borja.lledolopez@amaris.com</td>\n      <td>gonzalo.cruz@amaris.com</td>\n      <td>2/2021</td>\n      <td>Pendiente</td>\n    </tr>\n    <tr>\n      <th>22</th>\n      <td>aaron.fleming@amaris.com</td>\n      <td>jaume.pochblanch@amaris.com</td>\n      <td>2/2021</td>\n      <td>Rechazado</td>\n    </tr>\n  </tbody>\n</table>\n</div>"
     },
     "metadata": {},
     "execution_count": 76
    }
   ],
   "source": [
    "mrg1=data.merge(countPtes, how='left', le)"
   ]
  },
  {
   "cell_type": "code",
   "execution_count": 22,
   "metadata": {},
   "outputs": [],
   "source": [
    "data.to_excel('data/mails.xlsx')"
   ]
  },
  {
   "cell_type": "code",
   "execution_count": 178,
   "metadata": {},
   "outputs": [],
   "source": [
    "month=2\n",
    "year=2020"
   ]
  },
  {
   "cell_type": "code",
   "execution_count": 182,
   "metadata": {},
   "outputs": [],
   "source": [
    "mesMasUno=int(month)+1  \n",
    "\n",
    "month=str(month)\n",
    "year=str(year) \n",
    "    \n",
    "monthYear=month+'/'+year"
   ]
  },
  {
   "cell_type": "code",
   "execution_count": 184,
   "metadata": {},
   "outputs": [
    {
     "output_type": "execute_result",
     "data": {
      "text/plain": [
       "'2/2020'"
      ]
     },
     "metadata": {},
     "execution_count": 184
    }
   ],
   "source": [
    "monthYear"
   ]
  },
  {
   "cell_type": "code",
   "execution_count": null,
   "metadata": {},
   "outputs": [],
   "source": []
  }
 ]
}